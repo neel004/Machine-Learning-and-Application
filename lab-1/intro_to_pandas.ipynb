{
  "nbformat": 4,
  "nbformat_minor": 0,
  "metadata": {
    "colab": {
      "name": "intro to pandas.ipynb",
      "provenance": [],
      "collapsed_sections": []
    },
    "kernelspec": {
      "name": "python3",
      "display_name": "Python 3"
    }
  },
  "cells": [
    {
      "cell_type": "code",
      "metadata": {
        "id": "IOmpMGSilTBn"
      },
      "source": [
        "import numpy as np\r\n",
        "import pandas as pd"
      ],
      "execution_count": null,
      "outputs": []
    },
    {
      "cell_type": "code",
      "metadata": {
        "colab": {
          "base_uri": "https://localhost:8080/"
        },
        "id": "tQ4QB14KomIR",
        "outputId": "d20a62ac-8e48-417a-922f-8aa298da051b"
      },
      "source": [
        "dates = pd.date_range(\"20130101\", periods=6)\r\n",
        "print(\"18IT092\")\r\n",
        "print(dates)"
      ],
      "execution_count": null,
      "outputs": [
        {
          "output_type": "stream",
          "text": [
            "18IT092\n",
            "DatetimeIndex(['2013-01-01', '2013-01-02', '2013-01-03', '2013-01-04',\n",
            "               '2013-01-05', '2013-01-06'],\n",
            "              dtype='datetime64[ns]', freq='D')\n"
          ],
          "name": "stdout"
        }
      ]
    },
    {
      "cell_type": "code",
      "metadata": {
        "colab": {
          "base_uri": "https://localhost:8080/"
        },
        "id": "6PoloMXOova2",
        "outputId": "57e9e956-97b6-48b5-d822-6882a2acfb34"
      },
      "source": [
        "df = pd.DataFrame(np.random.rand(6,4), index=dates , columns=list(\"abcd\"))\r\n",
        "print(\"18IT092\")\r\n",
        "print(df)"
      ],
      "execution_count": null,
      "outputs": [
        {
          "output_type": "stream",
          "text": [
            "18IT092\n",
            "                   a         b         c         d\n",
            "2013-01-01  0.464296  0.802262  0.809191  0.471662\n",
            "2013-01-02  0.348132  0.801002  0.204214  0.941182\n",
            "2013-01-03  0.664379  0.967877  0.123514  0.596373\n",
            "2013-01-04  0.499065  0.745876  0.642714  0.516608\n",
            "2013-01-05  0.766288  0.239975  0.604119  0.458936\n",
            "2013-01-06  0.053276  0.909342  0.215689  0.739165\n"
          ],
          "name": "stdout"
        }
      ]
    },
    {
      "cell_type": "code",
      "metadata": {
        "colab": {
          "base_uri": "https://localhost:8080/"
        },
        "id": "Azs1ppMRpPqA",
        "outputId": "2fefe710-a95f-4784-8323-d41960b90c7e"
      },
      "source": [
        "df.head(4)\r\n",
        "print(\"18IT092\")\r\n"
      ],
      "execution_count": null,
      "outputs": [
        {
          "output_type": "stream",
          "text": [
            "18IT092\n"
          ],
          "name": "stdout"
        }
      ]
    },
    {
      "cell_type": "code",
      "metadata": {
        "colab": {
          "base_uri": "https://localhost:8080/"
        },
        "id": "IcWRfFZEp8Rk",
        "outputId": "6d180875-c201-43e7-f4d1-2dda1e79fd90"
      },
      "source": [
        "df.tail(2)\r\n",
        "print(\"18IT092\")"
      ],
      "execution_count": null,
      "outputs": [
        {
          "output_type": "stream",
          "text": [
            "18IT092\n"
          ],
          "name": "stdout"
        }
      ]
    },
    {
      "cell_type": "code",
      "metadata": {
        "colab": {
          "base_uri": "https://localhost:8080/"
        },
        "id": "IZtaUUZjp_nw",
        "outputId": "5dc78a18-32d9-41d6-aa76-e78d0982e9b7"
      },
      "source": [
        "df.to_numpy()\r\n",
        "print(\"18IT092\")"
      ],
      "execution_count": null,
      "outputs": [
        {
          "output_type": "stream",
          "text": [
            "18IT092\n"
          ],
          "name": "stdout"
        }
      ]
    },
    {
      "cell_type": "code",
      "metadata": {
        "colab": {
          "base_uri": "https://localhost:8080/"
        },
        "id": "NNkX3CdNpcju",
        "outputId": "9a9700fa-f01d-48af-f8e0-052c5dcf98af"
      },
      "source": [
        "df2 = pd.DataFrame(\r\n",
        "   ...:     {\r\n",
        "   ...:         \"A\": 1.0,\r\n",
        "   ...:         \"B\": pd.Timestamp(\"20130102\"),\r\n",
        "   ...:         \"C\": pd.Series(1, index=list(range(4)), dtype=\"float32\"),\r\n",
        "   ...:         \"D\": np.array([3] * 4, dtype=\"int32\"),\r\n",
        "   ...:         \"E\": pd.Categorical([\"test\", \"train\", \"test\", \"train\"]),\r\n",
        "   ...:         \"F\": \"Nil\",\r\n",
        "   ...:     }\r\n",
        "   ...: )\r\n",
        "   ...: \r\n",
        "\r\n",
        "print(\"18IT092\")\r\n",
        "print(df2)"
      ],
      "execution_count": null,
      "outputs": [
        {
          "output_type": "stream",
          "text": [
            "18IT092\n",
            "     A          B    C  D      E    F\n",
            "0  1.0 2013-01-02  1.0  3   test  Nil\n",
            "1  1.0 2013-01-02  1.0  3  train  Nil\n",
            "2  1.0 2013-01-02  1.0  3   test  Nil\n",
            "3  1.0 2013-01-02  1.0  3  train  Nil\n"
          ],
          "name": "stdout"
        }
      ]
    },
    {
      "cell_type": "code",
      "metadata": {
        "colab": {
          "base_uri": "https://localhost:8080/"
        },
        "id": "cbybwcfgqOkV",
        "outputId": "b0949785-4d2e-4f60-ce47-f228e002e2ba"
      },
      "source": [
        "print(df2.to_numpy())\r\n",
        "print(\"18IT092\")"
      ],
      "execution_count": null,
      "outputs": [
        {
          "output_type": "stream",
          "text": [
            "[[1.0 Timestamp('2013-01-02 00:00:00') 1.0 3 'test' 'Nil']\n",
            " [1.0 Timestamp('2013-01-02 00:00:00') 1.0 3 'train' 'Nil']\n",
            " [1.0 Timestamp('2013-01-02 00:00:00') 1.0 3 'test' 'Nil']\n",
            " [1.0 Timestamp('2013-01-02 00:00:00') 1.0 3 'train' 'Nil']]\n",
            "18IT092\n"
          ],
          "name": "stdout"
        }
      ]
    },
    {
      "cell_type": "code",
      "metadata": {
        "colab": {
          "base_uri": "https://localhost:8080/"
        },
        "id": "cuS0UI1rpvWn",
        "outputId": "1e6fffdb-5040-494d-f92e-bb845ed5461f"
      },
      "source": [
        "print(df2.dtypes)\r\n",
        "print(\"18IT092\")"
      ],
      "execution_count": null,
      "outputs": [
        {
          "output_type": "stream",
          "text": [
            "A           float64\n",
            "B    datetime64[ns]\n",
            "C           float32\n",
            "D             int32\n",
            "E          category\n",
            "F            object\n",
            "dtype: object\n",
            "18IT092\n"
          ],
          "name": "stdout"
        }
      ]
    },
    {
      "cell_type": "code",
      "metadata": {
        "colab": {
          "base_uri": "https://localhost:8080/"
        },
        "id": "3kAd0OPHq0zl",
        "outputId": "7364ba36-2792-4732-de4a-ab0b84e5406c"
      },
      "source": [
        "print(df.loc[\"20130102\":\"20130104\", [\"a\", \"b\"]])\r\n",
        "print(\"18IT092\")"
      ],
      "execution_count": null,
      "outputs": [
        {
          "output_type": "stream",
          "text": [
            "                   a         b\n",
            "2013-01-02  0.348132  0.801002\n",
            "2013-01-03  0.664379  0.967877\n",
            "2013-01-04  0.499065  0.745876\n",
            "18IT092\n"
          ],
          "name": "stdout"
        }
      ]
    },
    {
      "cell_type": "code",
      "metadata": {
        "colab": {
          "base_uri": "https://localhost:8080/"
        },
        "id": "DYKWos1_q4jc",
        "outputId": "dc22a107-65e2-4e2d-895b-98ed45e5787a"
      },
      "source": [
        "print(df.loc[:,\"a\"])\r\n",
        "print(\"18IT092\")"
      ],
      "execution_count": null,
      "outputs": [
        {
          "output_type": "stream",
          "text": [
            "2013-01-01    0.464296\n",
            "2013-01-02    0.348132\n",
            "2013-01-03    0.664379\n",
            "2013-01-04    0.499065\n",
            "2013-01-05    0.766288\n",
            "2013-01-06    0.053276\n",
            "Freq: D, Name: a, dtype: float64\n",
            "18IT092\n"
          ],
          "name": "stdout"
        }
      ]
    },
    {
      "cell_type": "code",
      "metadata": {
        "colab": {
          "base_uri": "https://localhost:8080/"
        },
        "id": "ee59E4kurLt2",
        "outputId": "4abdad9d-41a8-4436-effd-41b5b453a3fd"
      },
      "source": [
        "print(df.iloc[3:5, 0:2])\r\n",
        "print(\"18IT092\")"
      ],
      "execution_count": null,
      "outputs": [
        {
          "output_type": "stream",
          "text": [
            "                   a         b\n",
            "2013-01-04  0.499065  0.745876\n",
            "2013-01-05  0.766288  0.239975\n",
            "18IT092\n"
          ],
          "name": "stdout"
        }
      ]
    },
    {
      "cell_type": "code",
      "metadata": {
        "colab": {
          "base_uri": "https://localhost:8080/"
        },
        "id": "Nm2of_CCruog",
        "outputId": "04ee2a52-c8b7-43a5-bdea-5d8870adb9fa"
      },
      "source": [
        "from google.colab import drive\r\n",
        "print(\"18IT092\")\r\n",
        "drive.mount(\"/content/drive\",force_remount=True)"
      ],
      "execution_count": null,
      "outputs": [
        {
          "output_type": "stream",
          "text": [
            "18IT092\n",
            "Mounted at /content/drive\n"
          ],
          "name": "stdout"
        }
      ]
    },
    {
      "cell_type": "code",
      "metadata": {
        "id": "7aw_g_BqrZ90"
      },
      "source": [
        "df.to_csv(\"/content/drive/My Drive/Colab Notebooks/MLA/first.csv\")"
      ],
      "execution_count": null,
      "outputs": []
    },
    {
      "cell_type": "code",
      "metadata": {
        "colab": {
          "base_uri": "https://localhost:8080/"
        },
        "id": "DV8m48shs6R6",
        "outputId": "600c7863-02fb-4a72-9d32-4a3a709f026e"
      },
      "source": [
        "print(pd.read_csv(\"first.csv\"))\r\n",
        "print(\"18IT092\")"
      ],
      "execution_count": null,
      "outputs": [
        {
          "output_type": "stream",
          "text": [
            "   Unnamed: 0         a         b         c         d\n",
            "0  2013-01-01  0.212014  0.337862  0.347620  0.952997\n",
            "1  2013-01-02  0.444135  0.203636  0.222752  0.654758\n",
            "2  2013-01-03  0.717384  0.780260  0.371370  0.013841\n",
            "3  2013-01-04  0.785025  0.052537  0.836108  0.488761\n",
            "4  2013-01-05  0.094765  0.732399  0.916948  0.689836\n",
            "5  2013-01-06  0.475532  0.200124  0.120508  0.703155\n",
            "18IT092\n"
          ],
          "name": "stdout"
        }
      ]
    },
    {
      "cell_type": "code",
      "metadata": {
        "colab": {
          "base_uri": "https://localhost:8080/"
        },
        "id": "x0Uuf9PdAyw5",
        "outputId": "f29f81fa-469e-4a3a-fb96-e5e552a0a98e"
      },
      "source": [
        "print(df.describe() )\r\n",
        "print(\"18IT092\")"
      ],
      "execution_count": null,
      "outputs": [
        {
          "output_type": "stream",
          "text": [
            "              a         b         c         d\n",
            "count  6.000000  6.000000  6.000000  6.000000\n",
            "mean   0.465906  0.744389  0.433240  0.620654\n",
            "std    0.250941  0.260056  0.286402  0.187909\n",
            "min    0.053276  0.239975  0.123514  0.458936\n",
            "25%    0.377173  0.759658  0.207082  0.482898\n",
            "50%    0.481681  0.801632  0.409904  0.556491\n",
            "75%    0.623051  0.882572  0.633065  0.703467\n",
            "max    0.766288  0.967877  0.809191  0.941182\n",
            "18IT092\n"
          ],
          "name": "stdout"
        }
      ]
    }
  ]
}