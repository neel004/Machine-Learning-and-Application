{
  "nbformat": 4,
  "nbformat_minor": 0,
  "metadata": {
    "colab": {
      "name": "intro to matplotlib.ipynb",
      "provenance": []
    },
    "kernelspec": {
      "name": "python3",
      "display_name": "Python 3"
    }
  },
  "cells": [
    {
      "cell_type": "code",
      "metadata": {
        "id": "t2b_KJaPMhw5"
      },
      "source": [
        "import matplotlib.pyplot as plt\r\n",
        "import math"
      ],
      "execution_count": null,
      "outputs": []
    },
    {
      "cell_type": "code",
      "metadata": {
        "id": "8CSVGNdhOfMk"
      },
      "source": [
        "import numpy as np"
      ],
      "execution_count": null,
      "outputs": []
    },
    {
      "cell_type": "code",
      "metadata": {
        "colab": {
          "base_uri": "https://localhost:8080/"
        },
        "id": "0u4-C4z6RfIx",
        "outputId": "12d6a864-b909-42fe-e090-cd86f71e7aaa"
      },
      "source": [
        "x = np.arange(0, math.pi*2, 0.05)\r\n",
        "print(\"18IT092\")"
      ],
      "execution_count": null,
      "outputs": [
        {
          "output_type": "stream",
          "text": [
            "18IT092\n"
          ],
          "name": "stdout"
        }
      ]
    },
    {
      "cell_type": "code",
      "metadata": {
        "colab": {
          "base_uri": "https://localhost:8080/"
        },
        "id": "5HBge_DvR1Pg",
        "outputId": "2f22a197-4e28-4c98-e1fb-72c6c0807134"
      },
      "source": [
        "y = np.sin(x)\r\n",
        "print(\"18IT092\")"
      ],
      "execution_count": null,
      "outputs": [
        {
          "output_type": "stream",
          "text": [
            "18IT092\n"
          ],
          "name": "stdout"
        }
      ]
    },
    {
      "cell_type": "code",
      "metadata": {
        "colab": {
          "base_uri": "https://localhost:8080/",
          "height": 312
        },
        "id": "i1c1_hjGR21I",
        "outputId": "6c5ed84b-4b27-4b95-e549-ae8b5682579a"
      },
      "source": [
        "plt.plot(x,y)\r\n",
        "plt.xlabel(\"angle\")\r\n",
        "plt.ylabel(\"sine\")\r\n",
        "plt.title('sine wave')\r\n",
        "print(\"18IT092\")\r\n",
        "plt.show()"
      ],
      "execution_count": null,
      "outputs": [
        {
          "output_type": "stream",
          "text": [
            "18IT092\n"
          ],
          "name": "stdout"
        },
        {
          "output_type": "display_data",
          "data": {
            "image/png": "[encoded data removed]",
            "text/plain": [
              "<Figure size 432x288 with 1 Axes>"
            ]
          },
          "metadata": {
            "tags": [],
            "needs_background": "light"
          }
        }
      ]
    }
  ]
}