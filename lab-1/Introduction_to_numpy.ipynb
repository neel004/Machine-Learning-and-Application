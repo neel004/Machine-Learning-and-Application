{
  "nbformat": 4,
  "nbformat_minor": 0,
  "metadata": {
    "colab": {
      "name": "Introduction to numpy.ipynb",
      "provenance": [],
      "collapsed_sections": []
    },
    "kernelspec": {
      "name": "python3",
      "display_name": "Python 3"
    }
  },
  "cells": [
    {
      "cell_type": "code",
      "metadata": {
        "id": "unjjckfPB_ya"
      },
      "source": [
        "import numpy as np #Importing numpy"
      ],
      "execution_count": null,
      "outputs": []
    },
    {
      "cell_type": "code",
      "metadata": {
        "id": "Rb4aTnPnBwsX",
        "colab": {
          "base_uri": "https://localhost:8080/"
        },
        "outputId": "29a303e2-6ae9-4870-ff09-d3193e7f7b62"
      },
      "source": [
        "print(\"18IT092\")\r\n",
        "np.empty([2,2],dtype=int) #creating a blanck array\r\n"
      ],
      "execution_count": null,
      "outputs": [
        {
          "output_type": "stream",
          "text": [
            "18IT092\n"
          ],
          "name": "stdout"
        },
        {
          "output_type": "execute_result",
          "data": {
            "text/plain": [
              "array([[1, 1],\n",
              "       [1, 0]])"
            ]
          },
          "metadata": {
            "tags": []
          },
          "execution_count": 2
        }
      ]
    },
    {
      "cell_type": "code",
      "metadata": {
        "colab": {
          "base_uri": "https://localhost:8080/"
        },
        "id": "mPZA_4AoX4Ss",
        "outputId": "bee6c63a-79b4-478c-85fa-9664434b1938"
      },
      "source": [
        "print(\"18IT092\")\r\n",
        "np.array([1,2,3]) #predefined data\r\n"
      ],
      "execution_count": null,
      "outputs": [
        {
          "output_type": "stream",
          "text": [
            "18IT092\n"
          ],
          "name": "stdout"
        },
        {
          "output_type": "execute_result",
          "data": {
            "text/plain": [
              "array([1, 2, 3])"
            ]
          },
          "metadata": {
            "tags": []
          },
          "execution_count": 3
        }
      ]
    },
    {
      "cell_type": "code",
      "metadata": {
        "colab": {
          "base_uri": "https://localhost:8080/"
        },
        "id": "NIw9QZ7sZ4pY",
        "outputId": "6e47e489-e1d8-4d02-94f8-f5cac5fd64bd"
      },
      "source": [
        "print(\"18IT092\")\r\n",
        "np.random.rand(4,4) #patternspecific"
      ],
      "execution_count": null,
      "outputs": [
        {
          "output_type": "stream",
          "text": [
            "18IT092\n"
          ],
          "name": "stdout"
        },
        {
          "output_type": "execute_result",
          "data": {
            "text/plain": [
              "array([[0.49395033, 0.86708339, 0.26788814, 0.90002716],\n",
              "       [0.96747259, 0.27639084, 0.80223003, 0.15039125],\n",
              "       [0.60656437, 0.50095822, 0.79138378, 0.36931487],\n",
              "       [0.05867024, 0.87427121, 0.19859456, 0.07999506]])"
            ]
          },
          "metadata": {
            "tags": []
          },
          "execution_count": 4
        }
      ]
    },
    {
      "cell_type": "code",
      "metadata": {
        "colab": {
          "base_uri": "https://localhost:8080/"
        },
        "id": "JYa5KB0EZ_eO",
        "outputId": "52a814d9-0640-4f90-efdb-b2069ff20a52"
      },
      "source": [
        "print(\"18IT092\")\r\n",
        "np.ones((4,2),dtype=int) #patternspecific"
      ],
      "execution_count": null,
      "outputs": [
        {
          "output_type": "stream",
          "text": [
            "18IT092\n"
          ],
          "name": "stdout"
        },
        {
          "output_type": "execute_result",
          "data": {
            "text/plain": [
              "array([[1, 1],\n",
              "       [1, 1],\n",
              "       [1, 1],\n",
              "       [1, 1]])"
            ]
          },
          "metadata": {
            "tags": []
          },
          "execution_count": 5
        }
      ]
    },
    {
      "cell_type": "markdown",
      "metadata": {
        "id": "gdix0n5oab6l"
      },
      "source": [
        "Slicing and updating elements\r\n"
      ]
    },
    {
      "cell_type": "code",
      "metadata": {
        "colab": {
          "base_uri": "https://localhost:8080/"
        },
        "id": "5XXOaJnoaeiZ",
        "outputId": "1bbdbf28-7f96-48c8-a708-d17730776880"
      },
      "source": [
        "print(\"18IT092\")\r\n",
        "a = np.array([1,2,3,2,1,5,2,4,2])\r\n",
        "np.sort(a)\r\n",
        "print(a.ndim,a.size,a.shape)\r\n",
        "a = a.reshape(3,3)\r\n",
        "b = np.random.rand(a.shape[0],a.shape[1])\r\n",
        "c = np.concatenate((a,b))\r\n",
        "print(c.ndim,c.size,c.shape)\r\n",
        "b.reshape(1,9)\r\n",
        "print(b.ndim,b.size,b.shape)\r\n",
        "print(a,b)\r\n",
        "b = b[:,:,np.newaxis]\r\n",
        "\r\n",
        "print(b.shape)\r\n",
        "b = np.expand_dims(b , axis=0)\r\n",
        "print(b.shape)"
      ],
      "execution_count": null,
      "outputs": [
        {
          "output_type": "stream",
          "text": [
            "18IT092\n",
            "1 9 (9,)\n",
            "2 18 (6, 3)\n",
            "2 9 (3, 3)\n",
            "[[1 2 3]\n",
            " [2 1 5]\n",
            " [2 4 2]] [[0.33775546 0.57751077 0.35324328]\n",
            " [0.0712363  0.47003682 0.55974459]\n",
            " [0.76076244 0.6843507  0.97963658]]\n",
            "(3, 3, 1)\n",
            "(1, 3, 3, 1)\n"
          ],
          "name": "stdout"
        }
      ]
    },
    {
      "cell_type": "code",
      "metadata": {
        "colab": {
          "base_uri": "https://localhost:8080/"
        },
        "id": "CIWTqnk_evOp",
        "outputId": "cc91a156-8cfa-48e4-adfd-da706cac53ea"
      },
      "source": [
        "print(\"18IT092\")\r\n",
        "print(c[c>3])\r\n",
        "div_by_2 = c[(c%2==0) | (c%4==0)]\r\n",
        "print(div_by_2)"
      ],
      "execution_count": null,
      "outputs": [
        {
          "output_type": "stream",
          "text": [
            "18IT092\n",
            "[5. 4.]\n",
            "[2. 2. 2. 4. 2.]\n"
          ],
          "name": "stdout"
        }
      ]
    },
    {
      "cell_type": "code",
      "metadata": {
        "colab": {
          "base_uri": "https://localhost:8080/"
        },
        "id": "AQuABgSigCo4",
        "outputId": "0108094c-3f4e-4a02-896b-5e4b954788a5"
      },
      "source": [
        "print(\"18IT092\")\r\n",
        "a = np.arange(10)\r\n",
        "print(a)\r\n",
        "sl = a[1:-2]\r\n",
        "print(sl)\r\n",
        "a = np.arange(2)\r\n",
        "b = np.arange(2)\r\n",
        "print(np.vstack((a,b)))\r\n",
        "print(np.hstack((a,b)))"
      ],
      "execution_count": null,
      "outputs": [
        {
          "output_type": "stream",
          "text": [
            "18IT092\n",
            "[0 1 2 3 4 5 6 7 8 9]\n",
            "[1 2 3 4 5 6 7]\n",
            "[[0 1]\n",
            " [0 1]]\n",
            "[0 1 0 1]\n"
          ],
          "name": "stdout"
        }
      ]
    },
    {
      "cell_type": "code",
      "metadata": {
        "colab": {
          "base_uri": "https://localhost:8080/"
        },
        "id": "c-455Prvg2fS",
        "outputId": "7bb0b5ec-d1e7-4299-e8c7-64d2df700d04"
      },
      "source": [
        "print(\"18IT092\")\r\n",
        "x = np.arange(1,11)\r\n",
        "y = np.hsplit(x , 5)\r\n",
        "print(y)"
      ],
      "execution_count": null,
      "outputs": [
        {
          "output_type": "stream",
          "text": [
            "18IT092\n",
            "[array([1, 2]), array([3, 4]), array([5, 6]), array([7, 8]), array([ 9, 10])]\n"
          ],
          "name": "stdout"
        }
      ]
    },
    {
      "cell_type": "code",
      "metadata": {
        "colab": {
          "base_uri": "https://localhost:8080/"
        },
        "id": "sBHFBqKxiCcb",
        "outputId": "425943d2-45ae-4b92-8ac3-f65c4bf45215"
      },
      "source": [
        "print(\"18IT092\")\r\n",
        "b = np.arange(1,11).reshape(5,2)\r\n",
        "for i in np.nditer(b):\r\n",
        "  print(i , end=' ')\r\n",
        "  pass\r\n",
        "print()\r\n",
        "with np.nditer(b,op_flags=['readwrite']) as i :\r\n",
        "  for x in i:\r\n",
        "    x[...] = x*2\r\n",
        "    pass\r\n",
        "    pass\r\n",
        "print(b)"
      ],
      "execution_count": null,
      "outputs": [
        {
          "output_type": "stream",
          "text": [
            "18IT092\n",
            "1 2 3 4 5 6 7 8 9 10 \n",
            "[[ 2  4]\n",
            " [ 6  8]\n",
            " [10 12]\n",
            " [14 16]\n",
            " [18 20]]\n"
          ],
          "name": "stdout"
        }
      ]
    }
  ]
}